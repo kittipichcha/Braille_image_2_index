{
 "cells": [
  {
   "cell_type": "markdown",
   "id": "c9d1fb3b",
   "metadata": {},
   "source": [
    "## Table system "
   ]
  },
  {
   "cell_type": "markdown",
   "id": "745f1547",
   "metadata": {},
   "source": [
    "#### Install dependencies \n",
    "I'll specify in requirement.txt in the future "
   ]
  },
  {
   "cell_type": "code",
   "execution_count": 9,
   "id": "9ac6e901",
   "metadata": {},
   "outputs": [
    {
     "name": "stdout",
     "output_type": "stream",
     "text": [
      "Requirement already satisfied: opencv-python in c:\\users\\kitti\\model\\braille_project\\braille_opencv_envi\\lib\\site-packages (from -r requirement.txt (line 1)) (4.12.0.88)\n",
      "Requirement already satisfied: numpy in c:\\users\\kitti\\model\\braille_project\\braille_opencv_envi\\lib\\site-packages (from -r requirement.txt (line 2)) (2.2.6)\n",
      "Requirement already satisfied: matplotlib in c:\\users\\kitti\\model\\braille_project\\braille_opencv_envi\\lib\\site-packages (from -r requirement.txt (line 3)) (3.10.6)\n",
      "Requirement already satisfied: scipy in c:\\users\\kitti\\model\\braille_project\\braille_opencv_envi\\lib\\site-packages (from -r requirement.txt (line 4)) (1.16.2)\n",
      "Requirement already satisfied: contourpy>=1.0.1 in c:\\users\\kitti\\model\\braille_project\\braille_opencv_envi\\lib\\site-packages (from matplotlib->-r requirement.txt (line 3)) (1.3.3)\n",
      "Requirement already satisfied: cycler>=0.10 in c:\\users\\kitti\\model\\braille_project\\braille_opencv_envi\\lib\\site-packages (from matplotlib->-r requirement.txt (line 3)) (0.12.1)\n",
      "Requirement already satisfied: fonttools>=4.22.0 in c:\\users\\kitti\\model\\braille_project\\braille_opencv_envi\\lib\\site-packages (from matplotlib->-r requirement.txt (line 3)) (4.60.1)\n",
      "Requirement already satisfied: kiwisolver>=1.3.1 in c:\\users\\kitti\\model\\braille_project\\braille_opencv_envi\\lib\\site-packages (from matplotlib->-r requirement.txt (line 3)) (1.4.9)\n",
      "Requirement already satisfied: packaging>=20.0 in c:\\users\\kitti\\model\\braille_project\\braille_opencv_envi\\lib\\site-packages (from matplotlib->-r requirement.txt (line 3)) (25.0)\n",
      "Requirement already satisfied: pillow>=8 in c:\\users\\kitti\\model\\braille_project\\braille_opencv_envi\\lib\\site-packages (from matplotlib->-r requirement.txt (line 3)) (11.3.0)\n",
      "Requirement already satisfied: pyparsing>=2.3.1 in c:\\users\\kitti\\model\\braille_project\\braille_opencv_envi\\lib\\site-packages (from matplotlib->-r requirement.txt (line 3)) (3.2.5)\n",
      "Requirement already satisfied: python-dateutil>=2.7 in c:\\users\\kitti\\model\\braille_project\\braille_opencv_envi\\lib\\site-packages (from matplotlib->-r requirement.txt (line 3)) (2.9.0.post0)\n",
      "Requirement already satisfied: six>=1.5 in c:\\users\\kitti\\model\\braille_project\\braille_opencv_envi\\lib\\site-packages (from python-dateutil>=2.7->matplotlib->-r requirement.txt (line 3)) (1.17.0)\n"
     ]
    },
    {
     "name": "stderr",
     "output_type": "stream",
     "text": [
      "\n",
      "[notice] A new release of pip is available: 25.0.1 -> 25.3\n",
      "[notice] To update, run: python.exe -m pip install --upgrade pip\n"
     ]
    }
   ],
   "source": [
    "!python -m pip install -r requirement.txt"
   ]
  },
  {
   "cell_type": "markdown",
   "id": "a2336153",
   "metadata": {},
   "source": [
    "### Download image dataset"
   ]
  },
  {
   "cell_type": "code",
   "execution_count": null,
   "id": "cf4dd952",
   "metadata": {},
   "outputs": [],
   "source": [
    "\n",
    "import kaggle \n",
    "import os \n",
    "import numpy as np \n",
    "import cv2 \n",
    "import matplotlib.pyplot as plt\n",
    "from scipy.spatial.distance import pdist, squareform\n",
    "import math"
   ]
  },
  {
   "cell_type": "code",
   "execution_count": 3,
   "id": "cdbb0a9e",
   "metadata": {},
   "outputs": [],
   "source": [
    "\n",
    "# check whether file is not download yet\n",
    "if os.path.exists('dataset/Braille') == 0:\n",
    "    kaggle.api.authenticate()\n",
    "    kaggle.api.dataset_download_files('changjianli/braille-dataset-for-scene-text-recognition', path = 'dataset', unzip = True)"
   ]
  },
  {
   "cell_type": "markdown",
   "id": "eeb8ab53",
   "metadata": {},
   "source": [
    "### Prepare dataset"
   ]
  },
  {
   "cell_type": "markdown",
   "id": "4dfa9e07",
   "metadata": {},
   "source": [
    "Add the image and label to Numpy accordingly"
   ]
  },
  {
   "cell_type": "code",
   "execution_count": 4,
   "id": "59d51a9b",
   "metadata": {},
   "outputs": [],
   "source": [
    "# Function : crop_func, crop image with opencv\n",
    "def crop_func(event, x, y):\n",
    "    \n",
    "    global current_img, crop_img\n",
    "    \n",
    "    if event == cv2.EVENT_LBUTTONDOWN:\n",
    "        x_start, y_start = x,y \n",
    "    \n",
    "    if event == cv2.EVENT_MOUSEMOVE:\n",
    "        x_end, y_end = x,y\n",
    "    \n",
    "    # find x,y min and max \n",
    "    x_min = min(x_start, x_end)\n",
    "    x_max = max(x_start, x_end)\n",
    "    y_max = max(y_start, y_end)\n",
    "    y_min = min(y_start, y_end)\n",
    "    \n",
    "    # crop image \n",
    "    crop_img = current_img[x_min : x_max, y_min : y_max]"
   ]
  },
  {
   "cell_type": "code",
   "execution_count": 5,
   "id": "03735e52",
   "metadata": {},
   "outputs": [],
   "source": [
    "# Function : preprocessing, preprocess an image \n",
    "def proprocessing(img):\n",
    "    \n",
    "    img = cv2.cvtColor(img, cv2.COLOR_BGR2GRAY)\n",
    "            \n",
    "    # reshape all image to be the same \n",
    "    img = cv2.resize(img, (224, 224))\n",
    "    \n",
    "    img = cv2.GaussianBlur(img, ksize = (5 ,5), sigmaX= 0)\n",
    "    \n",
    "    img = cv2.adaptiveThreshold(img, maxValue = 255, thresholdType=cv2.ADAPTIVE_THRESH_GAUSSIAN_C, adaptiveMethod = cv2.THRESH_BINARY, blockSize=3, C=2)\n",
    "    \n",
    "    img = cv2.erode(img, kernel=cv2.getStructuringElement(cv2.MORPH_RECT, (2,2)))\n",
    "    \n",
    "    return img\n",
    "    \n"
   ]
  },
  {
   "cell_type": "code",
   "execution_count": 6,
   "id": "10f6abf2",
   "metadata": {},
   "outputs": [],
   "source": [
    "# Function : read_images, read and store image value \n",
    "def read_images(directory : str):\n",
    "\n",
    "    images = []\n",
    "    base_name = []\n",
    "    \n",
    "    for img_path in os.listdir(directory):\n",
    "        \n",
    "        # Check the format of the file \n",
    "        if img_path.endswith(('.jpg', '.png', 'jpeg')):\n",
    "            # read base_name\n",
    "            base_name.append(os.path.splitext(img_path)[0])    \n",
    "            \n",
    "            # read image \n",
    "            img_full_path = os.path.join(directory, img_path)\n",
    "            img = cv2.imread(img_full_path)\n",
    "            \n",
    "            img_pre = proprocessing(img)\n",
    "            \n",
    "            images.append(img_pre)\n",
    "        \n",
    "    return np.array(images), base_name\n",
    "    \n"
   ]
  },
  {
   "cell_type": "code",
   "execution_count": 7,
   "id": "ba1e061f",
   "metadata": {},
   "outputs": [],
   "source": [
    "# Test read file system \n",
    "images, base_name = read_images('dataset/Braille/images/train')"
   ]
  },
  {
   "cell_type": "code",
   "execution_count": 8,
   "id": "2ad44196",
   "metadata": {},
   "outputs": [
    {
     "data": {
      "text/plain": [
       "(<matplotlib.image.AxesImage at 0x239fde4dd90>, '0000000', (224, 224))"
      ]
     },
     "execution_count": 8,
     "metadata": {},
     "output_type": "execute_result"
    },
    {
     "data": {
      "image/png": "[encoded data removed]",
      "text/plain": [
       "<Figure size 640x480 with 1 Axes>"
      ]
     },
     "metadata": {},
     "output_type": "display_data"
    }
   ],
   "source": [
    "# Compare between before and after resize the image \n",
    "plt.imshow(images[1], cmap = 'gray'), base_name[0], images[1].shape"
   ]
  },
  {
   "cell_type": "code",
   "execution_count": 9,
   "id": "708ff168",
   "metadata": {},
   "outputs": [],
   "source": [
    "# Function : text_2_num, convert text value to number\n",
    "def text_2_num(line):\n",
    "    \n",
    "    value = []\n",
    "    for text in line.split(','):\n",
    "        try: \n",
    "            value.append(int(text))\n",
    "           \n",
    "        except:\n",
    "            continue\n",
    "        \n",
    "    return value\n",
    "\n"
   ]
  },
  {
   "cell_type": "code",
   "execution_count": 10,
   "id": "edaa702a",
   "metadata": {},
   "outputs": [],
   "source": [
    "# Function : read_label, read single file \n",
    "def read_label(full_path : str, skip : bool): \n",
    "    \n",
    "    with open(full_path, 'r') as file:\n",
    "        \n",
    "        start_line = 1\n",
    "        location_list = []\n",
    "    \n",
    "        if skip:\n",
    "            next(file) # skip the first line\n",
    "            start_line = 2\n",
    "        \n",
    "        for _ , line in enumerate(file, start_line):\n",
    "            \n",
    "            value_list = text_2_num(line)\n",
    "            location_list.append(value_list)\n",
    "            \n",
    "    return np.array(location_list)\n",
    "                    \n",
    "                \n"
   ]
  },
  {
   "cell_type": "code",
   "execution_count": 11,
   "id": "9c073d8b",
   "metadata": {},
   "outputs": [],
   "source": [
    "# Function : read_labels, read label for entire directory\n",
    "def read_labels(directory : str, base_name : list):\n",
    "    \n",
    "    index = 0\n",
    "    labels_loc = []\n",
    "    \n",
    "    for label_path in os.listdir(directory):\n",
    "        \n",
    "        # check whether the image name according the label name \n",
    "        if os.path.splitext(label_path)[0] == base_name[index]:\n",
    "            \n",
    "            full_path = os.path.join(directory, label_path)\n",
    "            \n",
    "            labels_loc.append(read_label(full_path, True))   \n",
    "            \n",
    "            index = index + 1\n",
    "            \n",
    "    return labels_loc"
   ]
  },
  {
   "cell_type": "code",
   "execution_count": 12,
   "id": "ee336e1d",
   "metadata": {},
   "outputs": [],
   "source": [
    "# Test read labels system \n",
    "# labels = read_labels(directory='dataset/Braille/labels/train', base_name=base_name)"
   ]
  },
  {
   "cell_type": "code",
   "execution_count": 13,
   "id": "e229ded8",
   "metadata": {},
   "outputs": [],
   "source": [
    "# labels[0]"
   ]
  },
  {
   "cell_type": "markdown",
   "id": "cca2fd5a",
   "metadata": {},
   "source": [
    "### Read Braille index "
   ]
  },
  {
   "cell_type": "code",
   "execution_count": 14,
   "id": "20b180e4",
   "metadata": {
    "notebookRunGroups": {
     "groupValue": "2"
    }
   },
   "outputs": [
    {
     "data": {
      "text/plain": [
       "<matplotlib.image.AxesImage at 0x239be337f50>"
      ]
     },
     "execution_count": 14,
     "metadata": {},
     "output_type": "execute_result"
    },
    {
     "data": {
      "image/png": "[encoded data removed]",
      "text/plain": [
       "<Figure size 640x480 with 1 Axes>"
      ]
     },
     "metadata": {},
     "output_type": "display_data"
    }
   ],
   "source": [
    "plt.imshow(images[0], cmap=\"gray\")"
   ]
  },
  {
   "cell_type": "markdown",
   "id": "56864e30",
   "metadata": {},
   "source": [
    "#### Convert to dot location"
   ]
  },
  {
   "cell_type": "code",
   "execution_count": 15,
   "id": "56714d13",
   "metadata": {},
   "outputs": [],
   "source": [
    "# Function : findDot, find dot location\n",
    "def findDot(img):\n",
    "    contours, _ = cv2.findContours(img, mode=cv2.RETR_LIST, method=cv2.CHAIN_APPROX_SIMPLE)\n",
    "    return contours"
   ]
  },
  {
   "cell_type": "code",
   "execution_count": 16,
   "id": "709640cd",
   "metadata": {},
   "outputs": [],
   "source": [
    "# Function : contour_2_dot, convert contour to dot  \n",
    "def contour_2_dot(contours, radius : int, threshold : int):\n",
    "    \n",
    "    new_contour = []\n",
    "    \n",
    "    img = np.zeros((224, 224), dtype=np.uint8)\n",
    "    for contour in contours:\n",
    "        \n",
    "        # Skip the small contour\n",
    "        if cv2.contourArea(contour) < threshold:\n",
    "            continue\n",
    "        \n",
    "        (x, y), r = cv2.minEnclosingCircle(contour)\n",
    "        new_contour.append((int(x),int(y)))\n",
    "        cv2.circle(img, (int(x), int(y)), radius, color=255, thickness=1)\n",
    "        \n",
    "    return img, new_contour\n"
   ]
  },
  {
   "cell_type": "code",
   "execution_count": 17,
   "id": "c8eb5221",
   "metadata": {},
   "outputs": [],
   "source": [
    "# Rotate an image according to the grid "
   ]
  },
  {
   "cell_type": "code",
   "execution_count": 18,
   "id": "6d4d2c10",
   "metadata": {},
   "outputs": [
    {
     "data": {
      "text/plain": [
       "<matplotlib.image.AxesImage at 0x2399ebf7fe0>"
      ]
     },
     "execution_count": 18,
     "metadata": {},
     "output_type": "execute_result"
    },
    {
     "data": {
      "image/png": "[encoded data removed]",
      "text/plain": [
       "<Figure size 640x480 with 1 Axes>"
      ]
     },
     "metadata": {},
     "output_type": "display_data"
    }
   ],
   "source": [
    "curr_contour = findDot(images[0])\n",
    "img_draw, newContour = contour_2_dot(curr_contour, 2, 1)\n",
    "plt.imshow(img_draw, cmap = 'gray')"
   ]
  },
  {
   "cell_type": "code",
   "execution_count": 440,
   "id": "cea90a4c",
   "metadata": {},
   "outputs": [],
   "source": [
    "newContour = np.array(newContour)"
   ]
  },
  {
   "cell_type": "code",
   "execution_count": 441,
   "id": "35c39925",
   "metadata": {},
   "outputs": [],
   "source": [
    "# Function : plot_dot, plot location \n",
    "def plot_dot(dot : np.ndarray, name : str, x_lim : int = 224, y_lim : int = 224):\n",
    "\n",
    "    plt.xlim(0 , x_lim)\n",
    "    plt.ylim(0 , y_lim)\n",
    "    \n",
    "    plt.gca().invert_yaxis()\n",
    "    plt.axis('equal')\n",
    "    \n",
    "    plt.scatter(dot[:,0], dot[:,1])\n",
    "    plt.title(name)\n",
    "    \n",
    "    plt.grid(True, linestyle = ':')\n",
    "    plt.show()"
   ]
  },
  {
   "cell_type": "code",
   "execution_count": 442,
   "id": "86f562c0",
   "metadata": {},
   "outputs": [
    {
     "data": {
      "image/png": "[encoded data removed]",
      "text/plain": [
       "<Figure size 640x480 with 1 Axes>"
      ]
     },
     "metadata": {},
     "output_type": "display_data"
    }
   ],
   "source": [
    "plot_dot(newContour, \"Check the value of contour\")"
   ]
  },
  {
   "cell_type": "markdown",
   "id": "4e677bec",
   "metadata": {},
   "source": [
    "#### Preprocess Braille dot"
   ]
  },
  {
   "cell_type": "code",
   "execution_count": 443,
   "id": "56abf343",
   "metadata": {},
   "outputs": [],
   "source": [
    "# Function : filter_contour, remove the dot that has min length less and greater than range\n",
    "def filter_contour(contours : np.ndarray) -> np.ndarray:\n",
    "\n",
    "    \"\"\"\n",
    "    This function to approximate contours value of y axis to be more discrete and ly on the grid\n",
    "    \n",
    "    Parameter : contour to filter \n",
    "    Return : contour after filtering, Average distance \n",
    "    \n",
    "    DISCLAMER : This function may have a problem with character A \n",
    "    \"\"\"\n",
    "    \n",
    "    # delete duplicate value \n",
    "    contours = np.unique(contours, axis = 0)\n",
    "    \n",
    "    dist = pdist(contours, metric = \"euclidean\")\n",
    "    \n",
    "    dist_square_form = squareform(dist) \n",
    "    sorted_id = [np.argpartition(dist_square_form[i], 5) for i in range(contours.shape[0])]\n",
    "    \n",
    "    min_id = []\n",
    "    \n",
    "    for i in range(contours.shape[0]):\n",
    "        for j in range(5):\n",
    "\n",
    "            temp = dist_square_form[i][sorted_id[i][j]]\n",
    "            \n",
    "            if temp != 0:\n",
    "                 \n",
    "                min_id.append([i, sorted_id[i][j]])\n",
    "                break\n",
    "                \n",
    "    row_id = np.array(min_id)[:,0]\n",
    "    col_id = np.array(min_id)[:,1]\n",
    "    \n",
    "    non_zero_min_dist = dist_square_form[row_id,col_id]\n",
    "    avg_dist = np.mean(non_zero_min_dist)\n",
    "    \n",
    "    \n",
    "    # check contour again and delete the one which is below or out threshold\n",
    "    mask = (non_zero_min_dist < avg_dist - (avg_dist / 2)) | (non_zero_min_dist > math.sqrt(5) * avg_dist)\n",
    "    contours = np.delete(contours, mask, axis = 0)\n",
    "    \n",
    "    return contours, avg_dist\n",
    "    "
   ]
  },
  {
   "cell_type": "code",
   "execution_count": 444,
   "id": "dc293246",
   "metadata": {},
   "outputs": [
    {
     "data": {
      "text/plain": [
       "(29, 2)"
      ]
     },
     "execution_count": 444,
     "metadata": {},
     "output_type": "execute_result"
    }
   ],
   "source": [
    "new_contour_fil, avg_dist = filter_contour(newContour)\n",
    "new_contour_fil.shape"
   ]
  },
  {
   "cell_type": "code",
   "execution_count": 445,
   "id": "eff7b009",
   "metadata": {},
   "outputs": [
    {
     "data": {
      "image/png": "[encoded data removed]",
      "text/plain": [
       "<Figure size 640x480 with 1 Axes>"
      ]
     },
     "metadata": {},
     "output_type": "display_data"
    }
   ],
   "source": [
    "plot_dot(new_contour_fil, \"After filter\")"
   ]
  },
  {
   "cell_type": "markdown",
   "id": "44d27690",
   "metadata": {},
   "source": [
    "#### Group and find Braille index"
   ]
  },
  {
   "cell_type": "code",
   "execution_count": 446,
   "id": "73bef172",
   "metadata": {},
   "outputs": [],
   "source": [
    "threshold = int(avg_dist / 4)\n",
    "new_table = np.zeros((5,3))\n",
    "curr_contour = new_contour_fil"
   ]
  },
  {
   "cell_type": "code",
   "execution_count": 447,
   "id": "c9805ddb",
   "metadata": {
    "notebookRunGroups": {
     "groupValue": "1"
    }
   },
   "outputs": [],
   "source": [
    "# Function : check_dot_threshold, find whether location is near the dot contour\n",
    "def check_dot_threshold(contour : np.ndarray, location : list) -> int:\n",
    "\n",
    "    \"\"\" Check whether the contours is in cover area of threshold or not \n",
    "\n",
    "        Parameter : location to check\n",
    "        Return index of that contours\n",
    "            case : If have contour -> contour position \n",
    "            else : -1\n",
    "    \n",
    "    \"\"\"\n",
    "    # find the index of center in the contour \n",
    "    index_found = np.where((location[1] <= contour[:,1] + threshold) & (location[1] >= contour[:,1] - threshold) & (location[0] >= contour[:,0] - threshold) & (location[0] <= contour[:,0] + threshold))\n",
    "    if len(index_found[0]) != 0:\n",
    "        return index_found[0][0]\n",
    "    return -1    "
   ]
  },
  {
   "cell_type": "markdown",
   "id": "8c9a9fb7",
   "metadata": {},
   "source": [
    "Check function : check_dot_threshold"
   ]
  },
  {
   "cell_type": "code",
   "execution_count": 448,
   "id": "25495b9e",
   "metadata": {},
   "outputs": [
    {
     "name": "stdout",
     "output_type": "stream",
     "text": [
      "Help on function check_dot_threshold in module __main__:\n",
      "\n",
      "check_dot_threshold(contour: numpy.ndarray, location: list) -> int\n",
      "    Check whether the contours is in cover area of threshold or not\n",
      "\n",
      "    Parameter : location to check\n",
      "    Return index of that contours\n",
      "        case : If have contour -> contour position\n",
      "        else : -1\n",
      "\n"
     ]
    }
   ],
   "source": [
    "help(check_dot_threshold)"
   ]
  },
  {
   "cell_type": "code",
   "execution_count": 449,
   "id": "d3788929",
   "metadata": {},
   "outputs": [
    {
     "data": {
      "image/png": "[encoded data removed]",
      "text/plain": [
       "<Figure size 640x480 with 1 Axes>"
      ]
     },
     "metadata": {},
     "output_type": "display_data"
    }
   ],
   "source": [
    "# plot image with dot \n",
    "plot_dot(new_contour_fil, name = 'test')"
   ]
  },
  {
   "cell_type": "code",
   "execution_count": 450,
   "id": "131dd5c2",
   "metadata": {},
   "outputs": [
    {
     "data": {
      "text/plain": [
       "np.int64(0)"
      ]
     },
     "execution_count": 450,
     "metadata": {},
     "output_type": "execute_result"
    }
   ],
   "source": [
    "index = check_dot_threshold(curr_contour, curr_contour[0] + [-2, 2])\n",
    "index"
   ]
  },
  {
   "cell_type": "code",
   "execution_count": 451,
   "id": "18f08d2a",
   "metadata": {},
   "outputs": [],
   "source": [
    "table = np.zeros((5,3))"
   ]
  },
  {
   "cell_type": "code",
   "execution_count": 452,
   "id": "73b7d2a6",
   "metadata": {},
   "outputs": [],
   "source": [
    "# Function : traversion_check , recursive check neighbor\n",
    "def traversion_check(contour : np.ndarray, current_pos : np.ndarray, curr_row : int, curr_col : int): \n",
    "    \n",
    "    global table\n",
    "    global chk_ind\n",
    "    \n",
    "    # set value of table \n",
    "    table[curr_row][curr_col] = 1\n",
    "    \n",
    "    # check on its neighbor left down, right down, left, right, down\n",
    "    # format x,y\n",
    "    step_check = [[-1, 1], [1, 1], [-1, 0], [1, 0], [0, 1]]\n",
    "    array_step = np.array(step_check) * avg_dist\n",
    "    array_step = array_step.astype(int)\n",
    "    \n",
    "    index = check_dot_threshold(contour, current_pos)\n",
    "    if index != -1:\n",
    "        chk_ind.append(index)\n",
    "    for i in range(len(step_check)):\n",
    "        \n",
    "        location_2_check = current_pos + array_step[i]\n",
    "        \n",
    "        index = check_dot_threshold(contour, location_2_check.tolist()) \n",
    "        # print(index)\n",
    "        new_row = curr_row + step_check[i][1]\n",
    "        new_col = curr_col + step_check[i][0]\n",
    "        if (index != -1):\n",
    "            chk_ind.append(index)   \n",
    "                    \n",
    "            if table[new_row, new_col] != 1 and ((new_row < table.shape[0] and new_row >= 0) or (new_col < table.shape[1] and new_col >= 0)):\n",
    "                traversion_check(contour, location_2_check, new_row , new_col)\n",
    "\n",
    "    chk_ind = np.array(chk_ind)\n",
    "    chk_ind = np.unique(chk_ind).tolist()"
   ]
  },
  {
   "cell_type": "markdown",
   "id": "bd340615",
   "metadata": {},
   "source": [
    "Check function : traversion_check "
   ]
  },
  {
   "cell_type": "code",
   "execution_count": 453,
   "id": "71557112",
   "metadata": {},
   "outputs": [],
   "source": [
    "chk_ind = []\n",
    "table = np.zeros((5,3))"
   ]
  },
  {
   "cell_type": "code",
   "execution_count": 454,
   "id": "cbc3ab53",
   "metadata": {},
   "outputs": [
    {
     "data": {
      "text/plain": [
       "(array([ 64, 131]),\n",
       " array([[0., 0., 0.],\n",
       "        [0., 0., 0.],\n",
       "        [0., 1., 0.],\n",
       "        [0., 0., 0.],\n",
       "        [0., 0., 0.]]),\n",
       " [4])"
      ]
     },
     "execution_count": 454,
     "metadata": {},
     "output_type": "execute_result"
    }
   ],
   "source": [
    "index = 4\n",
    "traversion_check(new_contour_fil, new_contour_fil[index], 2, 1)\n",
    "new_contour_fil[index], table, chk_ind "
   ]
  },
  {
   "cell_type": "code",
   "execution_count": 455,
   "id": "90b48a60",
   "metadata": {},
   "outputs": [
    {
     "name": "stdout",
     "output_type": "stream",
     "text": [
      "[np.float64(65.0), np.float64(65.0), np.float64(65.0)]\n"
     ]
    }
   ],
   "source": [
    "# Select a row to assume position of row \n",
    "\n",
    "num_contours = 3\n",
    "min_y = np.min(curr_contour[:,1], axis = 0)\n",
    "row_tst_list = []\n",
    "\n",
    "for i in range(num_contours):\n",
    "    rand_table = np.random.randint(0,2, (5,3))\n",
    "    loc_1 = np.where(rand_table == 1)\n",
    "    fir_row_one = np.min(loc_1[0])\n",
    "    min_location = [3,min_y + avg_dist * fir_row_one]\n",
    "    row_tst_list.append([min_location, rand_table])\n",
    "\n",
    "print([loc[1] for loc, _ in row_tst_list])\n",
    "\n"
   ]
  },
  {
   "cell_type": "code",
   "execution_count": 456,
   "id": "4b3659c4",
   "metadata": {},
   "outputs": [],
   "source": [
    "# Function : braille_index_row, find index of Braille on each row\n",
    "def braille_index_row(group_char_list : list) -> list:\n",
    "    \n",
    "    length = len(group_char_list)\n",
    "    \n",
    "    # all table \n",
    "    table_list = []\n",
    "    \n",
    "    \n",
    "    # find min y for this group \n",
    "    min_braille = 6\n",
    "    begin_location_y = [group_char_list[i][0][1] for i in range(len(group_char_list))]\n",
    "    max_location_y = max(begin_location_y)\n",
    "    list_all_braille = []\n",
    "    \n",
    "    for i in range(length):\n",
    "        \n",
    "        index = 0\n",
    "        for j in range(2):\n",
    "            check_value = max_location_y - j * avg_dist\n",
    "            bound_check = j * avg_dist\n",
    "            if begin_location_y[i] > check_value - threshold and begin_location_y[i] < check_value + threshold: \n",
    "                break \n",
    "            index = index + 1\n",
    "        \n",
    "        # delete the first 2 - j row \n",
    "        new_table = np.delete(group_char_list[i][1], [x for x in range(index)], axis = 0)\n",
    "        \n",
    "        # cut where row is all 0\n",
    "        table_list.append(new_table)\n",
    "    \n",
    "        # calculate the table value to index format \n",
    "        # finding where value is 1 \n",
    "        index_1 = np.where(table_list[i] == 1)\n",
    "        \n",
    "        list_braille_index = []\n",
    "        \n",
    "        for i in range(len(index_1[0])):\n",
    "            list_braille_index.append(index_1[0][i] * 2 + index_1[1][i] + 1)\n",
    "        \n",
    "        if min_braille > min(list_braille_index):\n",
    "            min_braille = min(list_braille_index)    \n",
    "\n",
    "        list_all_braille.append(list_braille_index)\n",
    "    \n",
    "    # print(min_braille)\n",
    "    list_all_braille = [[item - 2 * ((min_braille - 1) // 2) for item in sublist] for sublist in list_all_braille]\n",
    "    return list_all_braille        \n"
   ]
  },
  {
   "cell_type": "markdown",
   "id": "060c06cf",
   "metadata": {},
   "source": [
    "Check function : braille_index_row"
   ]
  },
  {
   "cell_type": "code",
   "execution_count": 457,
   "id": "006126bc",
   "metadata": {},
   "outputs": [],
   "source": [
    "used_contour = new_contour_fil"
   ]
  },
  {
   "cell_type": "code",
   "execution_count": 458,
   "id": "1c3dec6c",
   "metadata": {},
   "outputs": [
    {
     "data": {
      "text/plain": [
       "[[np.int64(2), np.int64(7), np.int64(9), np.int64(9)],\n",
       " [np.int64(1),\n",
       "  np.int64(3),\n",
       "  np.int64(5),\n",
       "  np.int64(6),\n",
       "  np.int64(7),\n",
       "  np.int64(9)],\n",
       " [np.int64(2),\n",
       "  np.int64(3),\n",
       "  np.int64(3),\n",
       "  np.int64(4),\n",
       "  np.int64(6),\n",
       "  np.int64(7),\n",
       "  np.int64(8),\n",
       "  np.int64(9),\n",
       "  np.int64(9),\n",
       "  np.int64(10),\n",
       "  np.int64(11)]]"
      ]
     },
     "execution_count": 458,
     "metadata": {},
     "output_type": "execute_result"
    }
   ],
   "source": [
    "braille_index_row(row_tst_list)\n"
   ]
  },
  {
   "cell_type": "code",
   "execution_count": 459,
   "id": "8641f8b5",
   "metadata": {},
   "outputs": [],
   "source": [
    "def delete_zero_col(table : np.ndarray) -> np.ndarray:\n",
    "    \n",
    "    # check if there no value of one in which col -> delete that col \n",
    "    one_col = np.where(table == 1)[1]\n",
    "    one_col = np.unique(one_col)\n",
    "    \n",
    "    zero_col = [i for i in range(table.shape[1]) if i not in one_col]\n",
    "    new_table = np.delete(table, zero_col, axis = 1)\n",
    "    \n",
    "    return new_table"
   ]
  },
  {
   "cell_type": "code",
   "execution_count": 468,
   "id": "6fe0774c",
   "metadata": {},
   "outputs": [],
   "source": [
    "used_contour = new_contour_fil"
   ]
  },
  {
   "cell_type": "code",
   "execution_count": 469,
   "id": "b0bd95d4",
   "metadata": {},
   "outputs": [],
   "source": [
    "# Function read_braille : loop read the value of braillle for all group\n",
    "def read_braille():\n",
    "    \n",
    "    global used_contour\n",
    "    global chk_ind\n",
    "    \"\"\" Using threshold value to predict the Braille index \n",
    "    Step #1 : Start with the minimum coordinate row before col \n",
    "    Step #2 : Loop Row : check the value of the same row first by using threshold value\n",
    "        Step #2.1 : Loop for each column : check the value of the same col and group 2 col \n",
    "            Step #2.1.1 : Loop for row in each col group 3 -> write the index of that Braille -> Delete the contour \n",
    "    Step #3 : Go back to Step #1 untill there's no contour to check \n",
    "    \"\"\"\n",
    "    \n",
    "    # sort with y value \n",
    "    sorted_id = np.argsort(np.array(used_contour[:,1]))\n",
    "    # sort used_contour\n",
    "    used_contour = used_contour[sorted_id]\n",
    "    # set min value \n",
    "    min_dot_location = used_contour[0]\n",
    "    \n",
    "    # list to store data\n",
    "    Braille_index_list = [] # collect value of all row \n",
    "    list_table_row = [] # collect postion and table of row value \n",
    "    chk_ind = [] # return value from traversion whether position is checked\n",
    "    Braille_index_output = None\n",
    "    \n",
    "    while used_contour.size != 0:\n",
    "        # edit the value table \n",
    "        global table \n",
    "        table = np.zeros((5,3))\n",
    "        traversion_check(used_contour, used_contour[0], 2, 1)\n",
    "        \n",
    "        # print(chk_ind)\n",
    "        # print(used_contour)\n",
    "        used_contour = np.delete(used_contour, chk_ind, axis = 0)\n",
    "        chk_ind = []\n",
    "        \n",
    "        table = delete_zero_col(table)\n",
    "        # print(table)\n",
    "        list_table_row.append([min_dot_location, table])\n",
    "\n",
    "        if used_contour.size == 0:\n",
    "            break\n",
    "        \n",
    "        # if skip to the next line\n",
    "        if used_contour[0,1] > min_dot_location[1] + 3 * avg_dist:\n",
    "            # read the value for previous row\n",
    "            Braille_index_output = braille_index_row(sorted(list_table_row, key=lambda x: x[0][0]))\n",
    "            # print(Braille_index_output)\n",
    "            Braille_index_list.append(Braille_index_output)\n",
    "            \n",
    "            list_table_row = []\n",
    "            min_dot_location = used_contour[0]\n",
    "\n",
    "    # For the last line\n",
    "    Braille_index_list.append(Braille_index_output)\n",
    "    \n",
    "    return Braille_index_list    \n",
    "    "
   ]
  },
  {
   "cell_type": "markdown",
   "id": "76201ace",
   "metadata": {},
   "source": [
    "Check function : read_braille"
   ]
  },
  {
   "cell_type": "code",
   "execution_count": 470,
   "id": "11717dd4",
   "metadata": {},
   "outputs": [
    {
     "data": {
      "text/plain": [
       "[[[np.int64(1), np.int64(2), np.int64(4)],\n",
       "  [np.int64(1), np.int64(4), np.int64(5)]],\n",
       " [[np.int64(2), np.int64(4), np.int64(5)],\n",
       "  [np.int64(1), np.int64(3)],\n",
       "  [np.int64(1), np.int64(4), np.int64(5)],\n",
       "  [np.int64(1)]],\n",
       " [[np.int64(2), np.int64(4), np.int64(5)],\n",
       "  [np.int64(1), np.int64(3)],\n",
       "  [np.int64(1), np.int64(4), np.int64(5)],\n",
       "  [np.int64(1)]]]"
      ]
     },
     "execution_count": 470,
     "metadata": {},
     "output_type": "execute_result"
    }
   ],
   "source": [
    "read_braille()"
   ]
  }
 ],
 "metadata": {
  "kernelspec": {
   "display_name": "Braille_opencv_envi",
   "language": "python",
   "name": "python3"
  },
  "language_info": {
   "codemirror_mode": {
    "name": "ipython",
    "version": 3
   },
   "file_extension": ".py",
   "mimetype": "text/x-python",
   "name": "python",
   "nbconvert_exporter": "python",
   "pygments_lexer": "ipython3",
   "version": "3.12.10"
  }
 },
 "nbformat": 4,
 "nbformat_minor": 5
}
