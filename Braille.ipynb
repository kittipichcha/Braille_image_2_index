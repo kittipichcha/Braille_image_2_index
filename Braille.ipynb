{
 "cells": [
  {
   "cell_type": "markdown",
   "id": "a938a6b9",
   "metadata": {},
   "source": [
    "## Braille Project "
   ]
  },
  {
   "cell_type": "markdown",
   "id": "18aa8002",
   "metadata": {},
   "source": [
    "* Table net model \n",
    "* Braille model \n",
    "* Transformer model "
   ]
  },
  {
   "cell_type": "markdown",
   "id": "b33d6ea4",
   "metadata": {},
   "source": [
    "### Braille system "
   ]
  },
  {
   "cell_type": "markdown",
   "id": "a625eb82",
   "metadata": {},
   "source": [
    "#### Dependency and dataset"
   ]
  },
  {
   "cell_type": "code",
   "execution_count": 2,
   "id": "2b3eb198",
   "metadata": {},
   "outputs": [],
   "source": [
    "!pip list"
   ]
  },
  {
   "cell_type": "code",
   "execution_count": null,
   "id": "452b0ca3",
   "metadata": {},
   "outputs": [],
   "source": [
    "!git clone "
   ]
  },
  {
   "cell_type": "code",
   "execution_count": null,
   "id": "4138d3f6",
   "metadata": {},
   "outputs": [
    {
     "name": "stdout",
     "output_type": "stream",
     "text": [
      "Requirement already satisfied: transformers in c:\\users\\kitti\\model\\hugging_envi\\lib\\site-packages (4.56.0)\n",
      "Requirement already satisfied: pillow in c:\\users\\kitti\\model\\hugging_envi\\lib\\site-packages (11.3.0)\n",
      "Requirement already satisfied: kagglehub in c:\\users\\kitti\\model\\hugging_envi\\lib\\site-packages (0.3.13)\n",
      "Requirement already satisfied: kaggle in c:\\users\\kitti\\model\\hugging_envi\\lib\\site-packages (1.7.4.5)\n",
      "Requirement already satisfied: torch in c:\\users\\kitti\\model\\hugging_envi\\lib\\site-packages (2.8.0)\n",
      "Requirement already satisfied: filelock in c:\\users\\kitti\\model\\hugging_envi\\lib\\site-packages (from transformers) (3.19.1)\n",
      "Requirement already satisfied: huggingface-hub<1.0,>=0.34.0 in c:\\users\\kitti\\model\\hugging_envi\\lib\\site-packages (from transformers) (0.34.4)\n",
      "Requirement already satisfied: numpy>=1.17 in c:\\users\\kitti\\model\\hugging_envi\\lib\\site-packages (from transformers) (2.3.2)\n",
      "Requirement already satisfied: packaging>=20.0 in c:\\users\\kitti\\model\\hugging_envi\\lib\\site-packages (from transformers) (25.0)\n",
      "Requirement already satisfied: pyyaml>=5.1 in c:\\users\\kitti\\model\\hugging_envi\\lib\\site-packages (from transformers) (6.0.2)\n",
      "Requirement already satisfied: regex!=2019.12.17 in c:\\users\\kitti\\model\\hugging_envi\\lib\\site-packages (from transformers) (2025.8.29)\n",
      "Requirement already satisfied: requests in c:\\users\\kitti\\model\\hugging_envi\\lib\\site-packages (from transformers) (2.32.5)\n",
      "Requirement already satisfied: tokenizers<=0.23.0,>=0.22.0 in c:\\users\\kitti\\model\\hugging_envi\\lib\\site-packages (from transformers) (0.22.0)\n",
      "Requirement already satisfied: safetensors>=0.4.3 in c:\\users\\kitti\\model\\hugging_envi\\lib\\site-packages (from transformers) (0.6.2)\n",
      "Requirement already satisfied: tqdm>=4.27 in c:\\users\\kitti\\model\\hugging_envi\\lib\\site-packages (from transformers) (4.67.1)\n",
      "Requirement already satisfied: fsspec>=2023.5.0 in c:\\users\\kitti\\model\\hugging_envi\\lib\\site-packages (from huggingface-hub<1.0,>=0.34.0->transformers) (2025.3.0)\n",
      "Requirement already satisfied: typing-extensions>=3.7.4.3 in c:\\users\\kitti\\model\\hugging_envi\\lib\\site-packages (from huggingface-hub<1.0,>=0.34.0->transformers) (4.15.0)\n",
      "Requirement already satisfied: bleach in c:\\users\\kitti\\model\\hugging_envi\\lib\\site-packages (from kaggle) (6.2.0)\n",
      "Requirement already satisfied: certifi>=14.05.14 in c:\\users\\kitti\\model\\hugging_envi\\lib\\site-packages (from kaggle) (2025.8.3)\n",
      "Requirement already satisfied: charset-normalizer in c:\\users\\kitti\\model\\hugging_envi\\lib\\site-packages (from kaggle) (3.4.3)\n",
      "Requirement already satisfied: idna in c:\\users\\kitti\\model\\hugging_envi\\lib\\site-packages (from kaggle) (3.10)\n",
      "Requirement already satisfied: protobuf in c:\\users\\kitti\\model\\hugging_envi\\lib\\site-packages (from kaggle) (6.32.1)\n",
      "Requirement already satisfied: python-dateutil>=2.5.3 in c:\\users\\kitti\\model\\hugging_envi\\lib\\site-packages (from kaggle) (2.9.0.post0)\n",
      "Requirement already satisfied: python-slugify in c:\\users\\kitti\\model\\hugging_envi\\lib\\site-packages (from kaggle) (8.0.4)\n",
      "Requirement already satisfied: setuptools>=21.0.0 in c:\\users\\kitti\\model\\hugging_envi\\lib\\site-packages (from kaggle) (80.9.0)\n",
      "Requirement already satisfied: six>=1.10 in c:\\users\\kitti\\model\\hugging_envi\\lib\\site-packages (from kaggle) (1.17.0)\n",
      "Requirement already satisfied: text-unidecode in c:\\users\\kitti\\model\\hugging_envi\\lib\\site-packages (from kaggle) (1.3)\n",
      "Requirement already satisfied: urllib3>=1.15.1 in c:\\users\\kitti\\model\\hugging_envi\\lib\\site-packages (from kaggle) (2.5.0)\n",
      "Requirement already satisfied: webencodings in c:\\users\\kitti\\model\\hugging_envi\\lib\\site-packages (from kaggle) (0.5.1)\n",
      "Requirement already satisfied: sympy>=1.13.3 in c:\\users\\kitti\\model\\hugging_envi\\lib\\site-packages (from torch) (1.14.0)\n",
      "Requirement already satisfied: networkx in c:\\users\\kitti\\model\\hugging_envi\\lib\\site-packages (from torch) (3.5)\n",
      "Requirement already satisfied: jinja2 in c:\\users\\kitti\\model\\hugging_envi\\lib\\site-packages (from torch) (3.1.6)\n",
      "Requirement already satisfied: mpmath<1.4,>=1.1.0 in c:\\users\\kitti\\model\\hugging_envi\\lib\\site-packages (from sympy>=1.13.3->torch) (1.3.0)\n",
      "Requirement already satisfied: colorama in c:\\users\\kitti\\model\\hugging_envi\\lib\\site-packages (from tqdm>=4.27->transformers) (0.4.6)\n",
      "Requirement already satisfied: MarkupSafe>=2.0 in c:\\users\\kitti\\model\\hugging_envi\\lib\\site-packages (from jinja2->torch) (3.0.2)\n",
      "Note: you may need to restart the kernel to use updated packages.\n"
     ]
    }
   ],
   "source": [
    "%python -m pip install requirement.txt"
   ]
  },
  {
   "cell_type": "code",
   "execution_count": 2,
   "id": "b08b7564",
   "metadata": {},
   "outputs": [
    {
     "name": "stderr",
     "output_type": "stream",
     "text": [
      "c:\\Users\\kitti\\model\\hugging_envi\\Lib\\site-packages\\tqdm\\auto.py:21: TqdmWarning: IProgress not found. Please update jupyter and ipywidgets. See https://ipywidgets.readthedocs.io/en/stable/user_install.html\n",
      "  from .autonotebook import tqdm as notebook_tqdm\n"
     ]
    }
   ],
   "source": [
    "from transformers import AutoImageProcessor, AutoModelForImageClassification"
   ]
  },
  {
   "cell_type": "code",
   "execution_count": 4,
   "id": "84f29eab",
   "metadata": {},
   "outputs": [
    {
     "name": "stderr",
     "output_type": "stream",
     "text": [
      "Fetching 1 files: 100%|██████████| 1/1 [00:00<?, ?it/s]\n"
     ]
    }
   ],
   "source": [
    "preprocess = AutoImageProcessor.from_pretrained(\"satwikapaul/braille_4\")\n",
    "model = AutoModelForImageClassification.from_pretrained(\"satwikapaul/braille_4\")"
   ]
  },
  {
   "cell_type": "code",
   "execution_count": null,
   "id": "eff3174a",
   "metadata": {},
   "outputs": [],
   "source": [
    "# Download the dataset \n",
    "import kaggle"
   ]
  },
  {
   "cell_type": "code",
   "execution_count": null,
   "id": "95928dad",
   "metadata": {},
   "outputs": [
    {
     "name": "stdout",
     "output_type": "stream",
     "text": [
      "Dataset URL: https://www.kaggle.com/datasets/shanks0465/braille-character-dataset\n"
     ]
    }
   ],
   "source": [
    "file_path = './dataset'\n",
    "kaggle.api.dataset_download_files('shanks0465/braille-character-dataset', path=file_path, unzip=True)\n"
   ]
  },
  {
   "cell_type": "code",
   "execution_count": null,
   "id": "843a0c2e",
   "metadata": {},
   "outputs": [],
   "source": [
    "files = kaggle.api.dataset_list_files('shanks0465/braille-character-dataset').files"
   ]
  }
 ],
 "metadata": {
  "kernelspec": {
   "display_name": "Braille_envi",
   "language": "python",
   "name": "braille_envi"
  },
  "language_info": {
   "codemirror_mode": {
    "name": "ipython",
    "version": 3
   },
   "file_extension": ".py",
   "mimetype": "text/x-python",
   "name": "python",
   "nbconvert_exporter": "python",
   "pygments_lexer": "ipython3",
   "version": "3.12.10"
  }
 },
 "nbformat": 4,
 "nbformat_minor": 5
}
